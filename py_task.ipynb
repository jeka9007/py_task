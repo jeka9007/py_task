{
 "cells": [
  {
   "cell_type": "code",
   "execution_count": 50,
   "metadata": {},
   "outputs": [
    {
     "name": "stdout",
     "output_type": "stream",
     "text": [
      "15\n",
      "6\n",
      "----------------------------\n",
      "21\n",
      "3\n",
      "----------------------------\n",
      "29\n",
      "11\n",
      "2\n"
     ]
    }
   ],
   "source": [
    "def a_summ(number):\n",
    "    a_num = str(number)\n",
    "    result = 0\n",
    "    for num in range(len(str(number))):\n",
    "        result += int(a_num[num])\n",
    "    print(result)\n",
    "    if len(str(result)) > 1:\n",
    "        a_summ(result)\n",
    "    \n",
    "number = 942\n",
    "a_summ(number)\n",
    "print('----------------------------')\n",
    "number = 345234\n",
    "a_summ(number)\n",
    "print('----------------------------')\n",
    "number = 493193\n",
    "a_summ(number)"
   ]
  }
 ],
 "metadata": {
  "kernelspec": {
   "display_name": "Python 3",
   "language": "python",
   "name": "python3"
  },
  "language_info": {
   "codemirror_mode": {
    "name": "ipython",
    "version": 3
   },
   "file_extension": ".py",
   "mimetype": "text/x-python",
   "name": "python",
   "nbconvert_exporter": "python",
   "pygments_lexer": "ipython3",
   "version": "3.6.6"
  }
 },
 "nbformat": 4,
 "nbformat_minor": 2
}
